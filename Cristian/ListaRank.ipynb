{
  "nbformat": 4,
  "nbformat_minor": 0,
  "metadata": {
    "colab": {
      "provenance": []
    },
    "kernelspec": {
      "name": "python3",
      "display_name": "Python 3"
    },
    "language_info": {
      "name": "python"
    }
  },
  "cells": [
    {
      "cell_type": "code",
      "execution_count": 20,
      "metadata": {
        "colab": {
          "base_uri": "https://localhost:8080/"
        },
        "id": "nHrx1xOldELy",
        "outputId": "f7734f90-45b0-4ab8-c50e-174fc8f863ba"
      },
      "outputs": [
        {
          "output_type": "stream",
          "name": "stdout",
          "text": [
            "200\n"
          ]
        }
      ],
      "source": [
        "from itertools import combinations\n",
        "import time\n",
        "import matplotlib.pyplot as plt\n",
        "\n",
        "arr = [\"iteracao\", \"selecao\", \"controle\", \"verbos\", \"são\", \"também\", \"palavras\", \"essenciais\", \"no\", \"português\", \"dado\", \"indicarem\", \"ações\", \"estruturarem\", \"discurso\", \"orações\", \"verbos\", \"mais\", \"utilizados\" \n",
        "               \"são\", \"verbos\", \"ser\", \"ir\", \"estar\", \"ter\", \"haver\", \"que\", \"além\", \"poderem\", \"ser\", \"usados\", \"com\", \"diversos\", \"sentidos\", \"como\", \"verbos\", \"principais\", \"atuam\", \"também\", \"como\", \"verbos\", \"auxiliares\"\n",
        "               \"Se\", \"você\", \"quer\", \"entrar\", \"de\", \"vez\", \"no\", \"universo\", \"Python\", \"capacitação\", \"fundamental\", \"para\", \"se\", \"destacar\", \"Hashtag\", \"Treinamentos\", \"possui\", \"um\", \"curso\", \"avançado\", \"Python\", \"Python\"\n",
        "               \"para\", \"te\", \"preparar\", \"melhor\", \"para\", \"mercado\", \"trabalho\", \"Nele\", \"você\", \"poderá\", \"começar\", \"do\", \"zero\", \"entendendo\", \"importância\", \"as\", \"aplicações\", \"do\", \"Python\", \"instalar\", \"programa\"\n",
        "               \"importar\", \"bases\", \"dados\", \"fazer\", \"tratamanto\", \"delas\", \"medida\", \"em\", \"que\", \"for\", \"seguindo\", \"curso\", \"aprenderá\", \"fazer\", \"análise\", \"dados\", \"cálculo\", \"indicadores\", \"com\", \"ferramentas\", \"até\" \n",
        "               \"criar\", \"e-mail\", \"para\", \"ser\", \"enviado\", \"automaticamente\", \"pelo\", \"Python\", \"Tudo\", \"isso\", \"apoiado\", \"com\", \"material\", \"didático\", \"completo\", \"com\", \"livro\", \"digital\", \"suporte\", \"diário\", \"da\", \"nossa\"\n",
        "               \"equipe\", \"experts\", \"claro\", \"exemplos\", \"exercícios\", \"aplicações\", \"do\", \"mercado\", \"trabalho\", \"Afinal\", \"nosso\", \"foco\", \"elevar\", \"seu\", \"nível\", \"conhecimento\", \"para\", \"topo\", \"Em\", \"resumo\", \"com\", \"curso\", \"completo\", \"Python\", \"da\",\n",
        "               \"Hashtag\", \"Treinamentos\", \"você\", \"sai\", \"do\", \"zero\", \"ao\", \"nível\", \"impressionador\", \"sintaxe\", \"para\", \"acessar\", \"um\", \"elemento\", \"de\", \"uma\", \"lista\", \"mesma\", \"usada\", \"para\", \"acessar\", \"um\"\n",
        "               \"caractere\", \"um\", \"string\", \"Nós\", \"usamos\", \"operador\", \"de\", \"indexação\", \"não\", \"confundir\", \"com\", \"lista\", \"vazia\", \"expressão\", \"dentro\", \"dos\", \"colchetes\", \"especifica\", \"índice\", \"Lembrar\", \"que\"\n",
        "               \"índice\", \"primeiro\", \"elemento\", \"Qualquer\", \"expressão\", \"que\", \"tenha\", \"como\", \"resultado\", \"um\", \"número\", \"inteiro\"]\n",
        "                \n",
        "print(len(arr))\n",
        "\n",
        "def ordena(arr):\n",
        "    tamanho_da_lista = len(arr)\n",
        "    if tamanho_da_lista > 0:\n",
        "        quick_sort(arr, 0, tamanho_da_lista - 1)\n",
        "\n",
        "def quick_sort(arr, inicio, fim):\n",
        "\n",
        "    if inicio > fim:\n",
        "        return\n",
        "    anterior = inicio\n",
        "    posterior = fim\n",
        "    pivo = arr[inicio]\n",
        "\n",
        "    while anterior < posterior:\n",
        "        while anterior < posterior and arr[posterior] > pivo:\n",
        "            posterior = posterior - 1\n",
        "\n",
        "        if anterior < posterior:\n",
        "            arr[anterior] = arr[posterior]\n",
        "            anterior = anterior + 1\n",
        "\n",
        "        while anterior < posterior and arr[anterior] <= pivo:\n",
        "            anterior = anterior + 1\n",
        "\n",
        "        if anterior < posterior:\n",
        "            arr[posterior] = arr[anterior]\n",
        "            posterior = posterior - 1\n",
        "\n",
        "        arr[anterior] = pivo\n",
        "\n",
        "    quick_sort(arr, inicio, anterior - 1)\n",
        "    quick_sort(arr, anterior + 1, fim)\n",
        "    \n",
        "\n",
        " \n",
        "\n",
        "def main():\n",
        "\n",
        "    lista_de_alunos = arr\n",
        "\n",
        "    ordena(arr)\n",
        "\n",
        "    print(\"Lista ordenada:\")\n",
        "    for i in range(len(arr)):\n",
        "        print(\"% s\" % arr[i], end=\" \")\n",
        "\n",
        "\n",
        "\n",
        "\n"
      ]
    },
    {
      "cell_type": "code",
      "source": [],
      "metadata": {
        "id": "du2nN2uig8Mj"
      },
      "execution_count": null,
      "outputs": []
    }
  ]
}