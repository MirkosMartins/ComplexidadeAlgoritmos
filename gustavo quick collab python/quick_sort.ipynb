{
  "nbformat": 4,
  "nbformat_minor": 0,
  "metadata": {
    "colab": {
      "provenance": []
    },
    "kernelspec": {
      "name": "python3",
      "display_name": "Python 3"
    },
    "language_info": {
      "name": "python"
    }
  },
  "cells": [
    {
      "cell_type": "code",
      "source": [
        "def quick_sort(text):\n",
        "    # dividir texto em palavras\n",
        "    words = text.split()\n",
        "    # remover pontuacao\n",
        "    words = [word.replace(\",\", \"\") for word in words]\n",
        "    # Initialize a stack with the start and end indices of the list\n",
        "    stack = [(0, len(words) - 1)]\n",
        "\n",
        "    while stack:\n",
        "        # Pop the start and end indices from the stack\n",
        "        start, end = stack.pop()\n",
        "        # pivotagem\n",
        "        word_pivot = int(float((start + end)  / 2))\n",
        "        right = []\n",
        "        left = []\n",
        "        #sorteagem\n",
        "        # Partition the list into two sublists\n",
        "        for i in range(start, end + 1):\n",
        "            if i >= word_pivot:\n",
        "                right.append(words[i])\n",
        "            else:\n",
        "                left.append(words[i])\n",
        "        # Add the sublists to the stack if they have more than one element        \n",
        "        if len(right) > 1:\n",
        "            stack.append((start + len(left), end))\n",
        "        if len(left) > 1:\n",
        "            stack.append((start, start + len(left) - 1))\n",
        "    # Return the sorted list\n",
        "    return left + right"
      ],
      "metadata": {
        "id": "xikA_kbalr0x"
      },
      "execution_count": 43,
      "outputs": []
    },
    {
      "cell_type": "code",
      "source": [
        "text = \"A tarefa dada pelo professor de complexidade de algoritmos requer a criação de um código Python que implemente a lei de Zipf para calcular as 5 palavras mais utilizadas a partir de um texto de entrada fornecido pelo utilizador, utilizando vários modelos de linguagem de grande dimensão. essa lei é uma distribuição estatística que descreve a relação entre a frequência de uma palavra num texto e a sua classificação. A lei estabelece que a frequência da palavra é inversamente proporcional à nota. Assim, a palavra mais frequente aparece duas vezes mais do que a segunda palavra mais frequente, três vezes mais do que a terceira palavra mais frequente, e assim por diante. Para completar esta tarefa, é necessário ter uma boa compreensão da complexidade algorítmica, que é uma medida do tempo que um algoritmo ira demorar a ser completado dado um tamanho n. A complexidade do algoritmo é uma função que descreve a eficiência do algoritmo em termos da quantidade de dados que o algoritmo deve processar. A complexidade temporal de um algoritmo é o número de operações necessárias para resolver um problema em função da entrada.\"\n",
        "sorted_words = quick_sort(text)\n",
        "print(sorted_words)"
      ],
      "metadata": {
        "colab": {
          "base_uri": "https://localhost:8080/",
          "height": 460
        },
        "id": "fXC9Yc8Tl-O5",
        "outputId": "0b412513-5be6-4a2c-f7ef-a5a2ab7ca48b"
      },
      "execution_count": 44,
      "outputs": [
        {
          "output_type": "error",
          "ename": "KeyboardInterrupt",
          "evalue": "ignored",
          "traceback": [
            "\u001b[0;31m---------------------------------------------------------------------------\u001b[0m",
            "\u001b[0;31mKeyboardInterrupt\u001b[0m                         Traceback (most recent call last)",
            "\u001b[0;32m<ipython-input-44-41aeadbe57b1>\u001b[0m in \u001b[0;36m<cell line: 2>\u001b[0;34m()\u001b[0m\n\u001b[1;32m      1\u001b[0m \u001b[0mtext\u001b[0m \u001b[0;34m=\u001b[0m \u001b[0;34m\"A tarefa dada pelo professor de complexidade de algoritmos requer a criação de um código Python que implemente a lei de Zipf para calcular as 5 palavras mais utilizadas a partir de um texto de entrada fornecido pelo utilizador, utilizando vários modelos de linguagem de grande dimensão. essa lei é uma distribuição estatística que descreve a relação entre a frequência de uma palavra num texto e a sua classificação. A lei estabelece que a frequência da palavra é inversamente proporcional à nota. Assim, a palavra mais frequente aparece duas vezes mais do que a segunda palavra mais frequente, três vezes mais do que a terceira palavra mais frequente, e assim por diante. Para completar esta tarefa, é necessário ter uma boa compreensão da complexidade algorítmica, que é uma medida do tempo que um algoritmo ira demorar a ser completado dado um tamanho n. A complexidade do algoritmo é uma função que descreve a eficiência do algoritmo em termos da quantidade de dados que o algoritmo deve processar. A complexidade temporal de um algoritmo é o número de operações necessárias para resolver um problema em função da entrada.\"\u001b[0m\u001b[0;34m\u001b[0m\u001b[0;34m\u001b[0m\u001b[0m\n\u001b[0;32m----> 2\u001b[0;31m \u001b[0msorted_words\u001b[0m \u001b[0;34m=\u001b[0m \u001b[0mquick_sort\u001b[0m\u001b[0;34m(\u001b[0m\u001b[0mtext\u001b[0m\u001b[0;34m)\u001b[0m\u001b[0;34m\u001b[0m\u001b[0;34m\u001b[0m\u001b[0m\n\u001b[0m\u001b[1;32m      3\u001b[0m \u001b[0mprint\u001b[0m\u001b[0;34m(\u001b[0m\u001b[0msorted_words\u001b[0m\u001b[0;34m)\u001b[0m\u001b[0;34m\u001b[0m\u001b[0;34m\u001b[0m\u001b[0m\n",
            "\u001b[0;32m<ipython-input-43-539d59787ea7>\u001b[0m in \u001b[0;36mquick_sort\u001b[0;34m(text)\u001b[0m\n\u001b[1;32m     16\u001b[0m         \u001b[0;31m#sorteagem\u001b[0m\u001b[0;34m\u001b[0m\u001b[0;34m\u001b[0m\u001b[0m\n\u001b[1;32m     17\u001b[0m         \u001b[0;31m# Partition the list into two sublists\u001b[0m\u001b[0;34m\u001b[0m\u001b[0;34m\u001b[0m\u001b[0m\n\u001b[0;32m---> 18\u001b[0;31m         \u001b[0;32mfor\u001b[0m \u001b[0mi\u001b[0m \u001b[0;32min\u001b[0m \u001b[0mrange\u001b[0m\u001b[0;34m(\u001b[0m\u001b[0mstart\u001b[0m\u001b[0;34m,\u001b[0m \u001b[0mend\u001b[0m \u001b[0;34m+\u001b[0m \u001b[0;36m1\u001b[0m\u001b[0;34m)\u001b[0m\u001b[0;34m:\u001b[0m\u001b[0;34m\u001b[0m\u001b[0;34m\u001b[0m\u001b[0m\n\u001b[0m\u001b[1;32m     19\u001b[0m             \u001b[0;32mif\u001b[0m \u001b[0mi\u001b[0m \u001b[0;34m>=\u001b[0m \u001b[0mword_pivot\u001b[0m\u001b[0;34m:\u001b[0m\u001b[0;34m\u001b[0m\u001b[0;34m\u001b[0m\u001b[0m\n\u001b[1;32m     20\u001b[0m                 \u001b[0mright\u001b[0m\u001b[0;34m.\u001b[0m\u001b[0mappend\u001b[0m\u001b[0;34m(\u001b[0m\u001b[0mwords\u001b[0m\u001b[0;34m[\u001b[0m\u001b[0mi\u001b[0m\u001b[0;34m]\u001b[0m\u001b[0;34m)\u001b[0m\u001b[0;34m\u001b[0m\u001b[0;34m\u001b[0m\u001b[0m\n",
            "\u001b[0;31mKeyboardInterrupt\u001b[0m: "
          ]
        }
      ]
    },
    {
      "cell_type": "markdown",
      "source": [
        "texto a ser usado,200 palavras de acordo com heimgway editor website:\n",
        "A tarefa dada pelo professor de complexidade de algoritmos requer a criação de um código Python que implemente a lei de Zipf para calcular as 5 palavras mais utilizadas a partir de um texto de entrada fornecido pelo utilizador, utilizando vários modelos de linguagem de grande dimensão. essa lei é uma distribuição estatística que descreve a relação entre a frequência de uma palavra num texto e a sua classificação. A lei estabelece que a frequência da palavra é inversamente proporcional à nota. Assim, a palavra mais frequente aparece duas vezes mais do que a segunda palavra mais frequente, três vezes mais do que a terceira palavra mais frequente, e assim por diante.\n",
        "Para completar esta tarefa, é necessário ter uma boa compreensão da complexidade algorítmica, que é uma medida do tempo que um algoritmo ira demorar a ser completado dado um tamanho n. A complexidade do algoritmo é uma função que descreve a eficiência do algoritmo em termos da quantidade de dados que o algoritmo deve processar. A complexidade temporal de um algoritmo é o número de operações necessárias para resolver um problema em função da entrada."
      ],
      "metadata": {
        "id": "oT4xbr7dgi82"
      }
    },
    {
      "cell_type": "code",
      "source": [
        "def quick_sort(words):\n",
        "    if len(words) <= 1:\n",
        "        return words\n",
        "    pivot = words[len(words) // 2]\n",
        "    left = [word for word in words if word < pivot]\n",
        "    middle = [word for word in words if word == pivot]\n",
        "    right = [word for word in words if word > pivot]\n",
        "    return quick_sort(left) + middle + quick_sort(right)\n",
        "\n",
        "text = \"A tarefa dada pelo professor de complexidade de algoritmos requer a criação de um código Python que implemente a lei de Zipf para calcular as 5 palavras mais utilizadas a partir de um texto de entrada fornecido pelo utilizador, utilizando vários modelos de linguagem de grande dimensão. essa lei é uma distribuição estatística que descreve a relação entre a frequência de uma palavra num texto e a sua classificação. A lei estabelece que a frequência da palavra é inversamente proporcional à nota. Assim, a palavra mais frequente aparece duas vezes mais do que a segunda palavra mais frequente, três vezes mais do que a terceira palavra mais frequente, e assim por diante. Para completar esta tarefa, é necessário ter uma boa compreensão da complexidade algorítmica, que é uma medida do tempo que um algoritmo ira demorar a ser completado dado um tamanho n. A complexidade do algoritmo é uma função que descreve a eficiência do algoritmo em termos da quantidade de dados que o algoritmo deve processar. A complexidade temporal de um algoritmo é o número de operações necessárias para resolver um problema em função da entrada.\"\n",
        "\n",
        "# Split the text into words and remove punctuation\n",
        "words = text.split()\n",
        "words = [word.replace(\",\", \"\") for word in words]\n",
        "\n",
        "sorted_words = quick_sort(words)\n",
        "print(sorted_words)"
      ],
      "metadata": {
        "colab": {
          "base_uri": "https://localhost:8080/"
        },
        "id": "SkYTUOLtSKQA",
        "outputId": "b5607679-b66a-435a-86b0-905fe535c1ee"
      },
      "execution_count": 12,
      "outputs": [
        {
          "output_type": "stream",
          "name": "stdout",
          "text": [
            "['5', 'A', 'A', 'A', 'A', 'Assim', 'Para', 'Python', 'Zipf', 'a', 'a', 'a', 'a', 'a', 'a', 'a', 'a', 'a', 'a', 'a', 'a', 'algoritmo', 'algoritmo', 'algoritmo', 'algoritmo', 'algoritmo', 'algoritmos', 'algorítmica', 'aparece', 'as', 'assim', 'boa', 'calcular', 'classificação.', 'completado', 'completar', 'complexidade', 'complexidade', 'complexidade', 'complexidade', 'compreensão', 'criação', 'código', 'da', 'da', 'da', 'da', 'dada', 'dado', 'dados', 'de', 'de', 'de', 'de', 'de', 'de', 'de', 'de', 'de', 'de', 'de', 'de', 'demorar', 'descreve', 'descreve', 'deve', 'diante.', 'dimensão.', 'distribuição', 'do', 'do', 'do', 'do', 'do', 'duas', 'e', 'e', 'eficiência', 'em', 'em', 'entrada', 'entrada.', 'entre', 'essa', 'esta', 'estabelece', 'estatística', 'fornecido', 'frequente', 'frequente', 'frequente', 'frequência', 'frequência', 'função', 'função', 'grande', 'implemente', 'inversamente', 'ira', 'lei', 'lei', 'lei', 'linguagem', 'mais', 'mais', 'mais', 'mais', 'mais', 'mais', 'medida', 'modelos', 'n.', 'necessárias', 'necessário', 'nota.', 'num', 'número', 'o', 'o', 'operações', 'palavra', 'palavra', 'palavra', 'palavra', 'palavra', 'palavras', 'para', 'para', 'partir', 'pelo', 'pelo', 'por', 'problema', 'processar.', 'professor', 'proporcional', 'quantidade', 'que', 'que', 'que', 'que', 'que', 'que', 'que', 'que', 'que', 'relação', 'requer', 'resolver', 'segunda', 'ser', 'sua', 'tamanho', 'tarefa', 'tarefa', 'tempo', 'temporal', 'ter', 'terceira', 'termos', 'texto', 'texto', 'três', 'um', 'um', 'um', 'um', 'um', 'um', 'uma', 'uma', 'uma', 'uma', 'uma', 'utilizadas', 'utilizador', 'utilizando', 'vezes', 'vezes', 'vários', 'à', 'é', 'é', 'é', 'é', 'é', 'é']\n"
          ]
        }
      ]
    },
    {
      "cell_type": "code",
      "source": [
        "def quick_sort(words):\n",
        "    if len(words) <= 1:\n",
        "        return words\n",
        "\n",
        "    pivot = words[len(words) // 2]\n",
        "    smaller = []\n",
        "    larger = []\n",
        "\n",
        "    for word in words:\n",
        "        if word < pivot:\n",
        "            smaller.append(word)\n",
        "        elif word > pivot:\n",
        "            larger.append(word)\n",
        "\n",
        "    return quick_sort(smaller) + [pivot] + quick_sort(larger)\n",
        "\n",
        "\n",
        "text = \"A tarefa dada pelo professor de complexidade de algoritmos requer a criação de um código Python que implemente a lei de Zipf para calcular as 5 palavras mais utilizadas a partir de um texto de entrada fornecido pelo utilizador, utilizando vários modelos de linguagem de grande dimensão. essa lei é uma distribuição estatística que descreve a relação entre a frequência de uma palavra num texto e a sua classificação. A lei estabelece que a frequência da palavra é inversamente proporcional à nota. Assim, a palavra mais frequente aparece duas vezes mais do que a segunda palavra mais frequente, três vezes mais do que a terceira palavra mais frequente, e assim por diante. Para completar esta tarefa, é necessário ter uma boa compreensão da complexidade algorítmica, que é uma medida do tempo que um algoritmo ira demorar a ser completado dado um tamanho n. A complexidade do algoritmo é uma função que descreve a eficiência do algoritmo em termos da quantidade de dados que o algoritmo deve processar. A complexidade temporal de um algoritmo é o número de operações necessárias para resolver um problema em função da entrada.\"\n",
        "\n",
        "# Split the text into words and remove punctuation\n",
        "words = text.split()\n",
        "words = [word.replace(\",\", \"\") for word in words]\n",
        "\n",
        "sorted_words = quick_sort(words)\n",
        "print(sorted_words)"
      ],
      "metadata": {
        "colab": {
          "base_uri": "https://localhost:8080/"
        },
        "id": "-9-wVa0VbaBo",
        "outputId": "6c5430a5-0c6a-479d-fc93-a2e5d981a569"
      },
      "execution_count": 50,
      "outputs": [
        {
          "output_type": "stream",
          "name": "stdout",
          "text": [
            "['5', 'A', 'Assim', 'Para', 'Python', 'Zipf', 'a', 'algoritmo', 'algoritmos', 'algorítmica', 'aparece', 'as', 'assim', 'boa', 'calcular', 'classificação.', 'completado', 'completar', 'complexidade', 'compreensão', 'criação', 'código', 'da', 'dada', 'dado', 'dados', 'de', 'demorar', 'descreve', 'deve', 'diante.', 'dimensão.', 'distribuição', 'do', 'duas', 'e', 'eficiência', 'em', 'entrada', 'entrada.', 'entre', 'essa', 'esta', 'estabelece', 'estatística', 'fornecido', 'frequente', 'frequência', 'função', 'grande', 'implemente', 'inversamente', 'ira', 'lei', 'linguagem', 'mais', 'medida', 'modelos', 'n.', 'necessárias', 'necessário', 'nota.', 'num', 'número', 'o', 'operações', 'palavra', 'palavras', 'para', 'partir', 'pelo', 'por', 'problema', 'processar.', 'professor', 'proporcional', 'quantidade', 'que', 'relação', 'requer', 'resolver', 'segunda', 'ser', 'sua', 'tamanho', 'tarefa', 'tempo', 'temporal', 'ter', 'terceira', 'termos', 'texto', 'três', 'um', 'uma', 'utilizadas', 'utilizador', 'utilizando', 'vezes', 'vários', 'à', 'é']\n"
          ]
        }
      ]
    },
    {
      "cell_type": "code",
      "source": [
        "def quick_sort(words):\n",
        "  \"\"\"Sorts a list of words in ascending order.\n",
        "\n",
        "  Args:\n",
        "    words: A list of words.\n",
        "\n",
        "  Returns:\n",
        "    A list of sorted words.\n",
        "  \"\"\"\n",
        "\n",
        "  if len(words) <= 1:\n",
        "    return words\n",
        "\n",
        "  pivot = words[len(words) // 2]\n",
        "  smaller = []\n",
        "  larger = []\n",
        "\n",
        "  for word in words:\n",
        "    if word < pivot:\n",
        "      smaller.append(word)\n",
        "    elif word > pivot:\n",
        "      larger.append(word)\n",
        "\n",
        "  return quick_sort(smaller) + [pivot] + quick_sort(larger)\n",
        "\n",
        "\n",
        "def main():\n",
        "  # Get the text to sort.\n",
        "  text = input(\"Enter some text: \")\n",
        "\n",
        "  # Split the text into words and remove punctuation.\n",
        "  words = text.split()\n",
        "  words = [word.replace(\",\", \"\") for word in words]\n",
        "\n",
        "  # Sort the words.\n",
        "  sorted_words = quick_sort(words)\n",
        "\n",
        "  # Print the sorted words.\n",
        "  print(\"Sorted words:\", sorted_words)\n",
        "\n",
        "\n",
        "if __name__ == \"__main__\":\n",
        "  main()"
      ],
      "metadata": {
        "colab": {
          "base_uri": "https://localhost:8080/"
        },
        "id": "B8WegniPc14L",
        "outputId": "bc092a39-9a4f-4b8d-8b78-824c22afffc6"
      },
      "execution_count": 52,
      "outputs": [
        {
          "output_type": "stream",
          "name": "stdout",
          "text": [
            "Enter some text: A tarefa dada pelo professor de complexidade de algoritmos requer a criação de um código Python que implemente a lei de Zipf para calcular as 5 palavras mais utilizadas a partir de um texto de entrada fornecido pelo utilizador, utilizando vários modelos de linguagem de grande dimensão. essa lei é uma distribuição estatística que descreve a relação entre a frequência de uma palavra num texto e a sua classificação. A lei estabelece que a frequência da palavra é inversamente proporcional à nota. Assim, a palavra mais frequente aparece duas vezes mais do que a segunda palavra mais frequente, três vezes mais do que a terceira palavra mais frequente, e assim por diante. Para completar esta tarefa, é necessário ter uma boa compreensão da complexidade algorítmica, que é uma medida do tempo que um algoritmo ira demorar a ser completado dado um tamanho n. A complexidade do algoritmo é uma função que descreve a eficiência do algoritmo em termos da quantidade de dados que o algoritmo deve processar. A complexidade temporal de um algoritmo é o número de operações necessárias para resolver um problema em função da entrada\n",
            "Sorted words: ['5', 'A', 'Assim', 'Para', 'Python', 'Zipf', 'a', 'algoritmo', 'algoritmos', 'algorítmica', 'aparece', 'as', 'assim', 'boa', 'calcular', 'classificação.', 'completado', 'completar', 'complexidade', 'compreensão', 'criação', 'código', 'da', 'dada', 'dado', 'dados', 'de', 'demorar', 'descreve', 'deve', 'diante.', 'dimensão.', 'distribuição', 'do', 'duas', 'e', 'eficiência', 'em', 'entrada', 'entre', 'essa', 'esta', 'estabelece', 'estatística', 'fornecido', 'frequente', 'frequência', 'função', 'grande', 'implemente', 'inversamente', 'ira', 'lei', 'linguagem', 'mais', 'medida', 'modelos', 'n.', 'necessárias', 'necessário', 'nota.', 'num', 'número', 'o', 'operações', 'palavra', 'palavras', 'para', 'partir', 'pelo', 'por', 'problema', 'processar.', 'professor', 'proporcional', 'quantidade', 'que', 'relação', 'requer', 'resolver', 'segunda', 'ser', 'sua', 'tamanho', 'tarefa', 'tempo', 'temporal', 'ter', 'terceira', 'termos', 'texto', 'três', 'um', 'uma', 'utilizadas', 'utilizador', 'utilizando', 'vezes', 'vários', 'à', 'é']\n"
          ]
        }
      ]
    }
  ]
}